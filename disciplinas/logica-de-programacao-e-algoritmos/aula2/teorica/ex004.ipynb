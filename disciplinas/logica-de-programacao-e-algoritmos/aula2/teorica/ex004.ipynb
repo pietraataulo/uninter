{
 "cells": [
  {
   "cell_type": "markdown",
   "metadata": {},
   "source": [
    "Desenvolva um algoritmo que converta uma temperatura de Celcius em Fahrenheit."
   ]
  },
  {
   "cell_type": "code",
   "execution_count": 1,
   "metadata": {},
   "outputs": [],
   "source": [
    "#passo1 - solicitar a temperatura\n",
    "temp = float(input('Qual a temperatura em Celsius?'))"
   ]
  },
  {
   "cell_type": "code",
   "execution_count": 2,
   "metadata": {},
   "outputs": [],
   "source": [
    "#passo2 - converter\n",
    "tempf = (9 * temp / 5) + 32"
   ]
  },
  {
   "cell_type": "code",
   "execution_count": 3,
   "metadata": {},
   "outputs": [
    {
     "name": "stdout",
     "output_type": "stream",
     "text": [
      "A temperatura 32.0C em Fahrenheit é de 89.6F.\n"
     ]
    }
   ],
   "source": [
    "#passo3 - exibir\n",
    "print(f'A temperatura {temp}C em Fahrenheit é de {tempf}F.')"
   ]
  }
 ],
 "metadata": {
  "kernelspec": {
   "display_name": "Python 3",
   "language": "python",
   "name": "python3"
  },
  "language_info": {
   "codemirror_mode": {
    "name": "ipython",
    "version": 3
   },
   "file_extension": ".py",
   "mimetype": "text/x-python",
   "name": "python",
   "nbconvert_exporter": "python",
   "pygments_lexer": "ipython3",
   "version": "3.12.1"
  }
 },
 "nbformat": 4,
 "nbformat_minor": 2
}
