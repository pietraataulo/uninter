{
 "cells": [
  {
   "cell_type": "markdown",
   "metadata": {},
   "source": [
    "Desenvolva um algoritmo que solicite uma quantidade de dias, horas, minutos e segundos. Calcule o total de segundos e imprima na tela."
   ]
  },
  {
   "cell_type": "code",
   "execution_count": 1,
   "metadata": {},
   "outputs": [],
   "source": [
    "dias = int(input('Digite o total de dias: '))\n",
    "horas = int(input('Digite o total de horas: '))\n",
    "minutos = int(input('Digite o total de minutos: '))\n",
    "segundos = int(input('Digite o total de segundos: '))"
   ]
  },
  {
   "cell_type": "code",
   "execution_count": 2,
   "metadata": {},
   "outputs": [
    {
     "name": "stdout",
     "output_type": "stream",
     "text": [
      "O total de segundos é 1307049.\n"
     ]
    }
   ],
   "source": [
    "total = segundos + (minutos * 60) + (horas * 60 * 60) + (dias * 24 * 60 * 60)\n",
    "print(f'O total de segundos é {total}.')"
   ]
  }
 ],
 "metadata": {
  "kernelspec": {
   "display_name": "Python 3",
   "language": "python",
   "name": "python3"
  },
  "language_info": {
   "codemirror_mode": {
    "name": "ipython",
    "version": 3
   },
   "file_extension": ".py",
   "mimetype": "text/x-python",
   "name": "python",
   "nbconvert_exporter": "python",
   "pygments_lexer": "ipython3",
   "version": "3.12.1"
  }
 },
 "nbformat": 4,
 "nbformat_minor": 2
}
