{
 "cells": [
  {
   "cell_type": "markdown",
   "metadata": {},
   "source": [
    "Crie um algoritmo que solicite o preço e o desconto de um produto. Calcule-o e exiba o valor do desconto e o preço final do produto."
   ]
  },
  {
   "cell_type": "code",
   "execution_count": 34,
   "metadata": {},
   "outputs": [],
   "source": [
    "#passo 1 - solicitar o preço e o desconto do produto\n",
    "preco = float(input('Qual o preço do produto?'))\n",
    "desconto = float(input('Qual o valor do desconto?'))"
   ]
  },
  {
   "cell_type": "code",
   "execution_count": 35,
   "metadata": {},
   "outputs": [],
   "source": [
    "#passo2 - calcular o desconto\n",
    "valord =  preco * (desconto / 100)\n",
    "valorf = preco - valord"
   ]
  },
  {
   "cell_type": "code",
   "execution_count": 36,
   "metadata": {},
   "outputs": [
    {
     "name": "stdout",
     "output_type": "stream",
     "text": [
      "O valor do desconto é de R$37.5 reais e o preço final é R$212.5 reais.\n"
     ]
    }
   ],
   "source": [
    "#passo3 - exibir o valor do desconto e o preço final\n",
    "print(f'O valor do desconto é de R${valord} reais e o preço final é R${valorf} reais.')"
   ]
  }
 ],
 "metadata": {
  "kernelspec": {
   "display_name": "Python 3",
   "language": "python",
   "name": "python3"
  },
  "language_info": {
   "codemirror_mode": {
    "name": "ipython",
    "version": 3
   },
   "file_extension": ".py",
   "mimetype": "text/x-python",
   "name": "python",
   "nbconvert_exporter": "python",
   "pygments_lexer": "ipython3",
   "version": "3.12.1"
  }
 },
 "nbformat": 4,
 "nbformat_minor": 2
}
