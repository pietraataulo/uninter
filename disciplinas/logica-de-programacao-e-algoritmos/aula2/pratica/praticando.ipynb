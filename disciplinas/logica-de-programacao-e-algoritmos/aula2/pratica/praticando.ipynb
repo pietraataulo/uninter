{
 "cells": [
  {
   "cell_type": "code",
   "execution_count": 7,
   "metadata": {},
   "outputs": [],
   "source": [
    "#passo1 - solicitar dados\n",
    "km = int(input('Quantidade de km percorridos: '))\n",
    "dias = int(input('Quantidade de dias alugados: '))"
   ]
  },
  {
   "cell_type": "code",
   "execution_count": 8,
   "metadata": {},
   "outputs": [],
   "source": [
    "#passo2 - processar\n",
    "preco = 60 * dias + 0.15 * km"
   ]
  },
  {
   "cell_type": "code",
   "execution_count": 9,
   "metadata": {},
   "outputs": [
    {
     "name": "stdout",
     "output_type": "stream",
     "text": [
      "O preço a pagar é de R$183.0 reais.\n"
     ]
    }
   ],
   "source": [
    "#passo3 - exibir\n",
    "print(f'O preço a pagar é de R${preco} reais.')"
   ]
  }
 ],
 "metadata": {
  "kernelspec": {
   "display_name": "Python 3",
   "language": "python",
   "name": "python3"
  },
  "language_info": {
   "codemirror_mode": {
    "name": "ipython",
    "version": 3
   },
   "file_extension": ".py",
   "mimetype": "text/x-python",
   "name": "python",
   "nbconvert_exporter": "python",
   "pygments_lexer": "ipython3",
   "version": "3.12.1"
  }
 },
 "nbformat": 4,
 "nbformat_minor": 2
}
