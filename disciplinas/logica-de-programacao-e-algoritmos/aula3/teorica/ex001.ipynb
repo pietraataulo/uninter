{
 "cells": [
  {
   "cell_type": "code",
   "execution_count": 2,
   "metadata": {},
   "outputs": [
    {
     "name": "stdout",
     "output_type": "stream",
     "text": [
      "O segundo valor é maior que o segundo\n"
     ]
    }
   ],
   "source": [
    "x = int(input('Digite um valor inteiro:'))\n",
    "y = int(input('Digite um segundo valor inteiro:'))\n",
    "\n",
    "if (x > y):\n",
    "    print('O primeiro valor é maior que o segundo')\n",
    "else:\n",
    "    print('O segundo valor é maior que o segundo')\n"
   ]
  }
 ],
 "metadata": {
  "kernelspec": {
   "display_name": "Python 3",
   "language": "python",
   "name": "python3"
  },
  "language_info": {
   "codemirror_mode": {
    "name": "ipython",
    "version": 3
   },
   "file_extension": ".py",
   "mimetype": "text/x-python",
   "name": "python",
   "nbconvert_exporter": "python",
   "pygments_lexer": "ipython3",
   "version": "3.12.1"
  }
 },
 "nbformat": 4,
 "nbformat_minor": 2
}
