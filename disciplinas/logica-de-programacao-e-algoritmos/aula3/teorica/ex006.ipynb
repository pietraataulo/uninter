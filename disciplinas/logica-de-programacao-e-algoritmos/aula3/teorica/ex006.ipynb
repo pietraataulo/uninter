{
 "cells": [
  {
   "cell_type": "code",
   "execution_count": 9,
   "metadata": {},
   "outputs": [
    {
     "name": "stdout",
     "output_type": "stream",
     "text": [
      "PAGAMENTO\n",
      "1 - Pagamento à vista\n",
      "2 - Pagamento em 3x\n",
      "3 - Pagamento em 5x\n",
      "4 - Pagamento em 10x\n",
      "Pressione outra tecla para sair...\n",
      "O valor total é de R$1020.0\n",
      "Método de pagamento: Pagamento em 5x\n",
      "Valor da parcela: R$204.0\n"
     ]
    }
   ],
   "source": [
    "#passo1 - exibir opções e coletar informações\n",
    "print('PAGAMENTO\\n1 - Pagamento à vista\\n2 - Pagamento em 3x\\n3 - Pagamento em 5x\\n4 - Pagamento em 10x\\nPressione outra tecla para sair...')\n",
    "valor_compra = float(input('Qual o valor da compra?'))\n",
    "pagamento = int(input('Qual a forma de pagamento?'))\n",
    "\n",
    "if pagamento == 1:\n",
    "    valor_final = valor_compra * 0.95\n",
    "    print(f'O valor total é de R${valor_compra}\\nMétodo de pagamento: Pagamento à vista\\nValor final a pagar: R${valor_final}.')\n",
    "elif pagamento == 2:\n",
    "    valor_final = valor_compra // 3\n",
    "    print(f'O valor total é de R${valor_compra}\\nMétodo de pagamento: Pagamento em 3x\\nValor das parcelas: R${valor_final}')\n",
    "elif pagamento == 3:\n",
    "    valor_final = valor_compra * 1.02\n",
    "    parcela = valor_final / 5\n",
    "    print(f'O valor total é de R${valor_final}\\nMétodo de pagamento: Pagamento em 5x\\nValor da parcela: R${parcela:.2f}')\n",
    "elif pagamento == 4:\n",
    "    valor_final = valor_compra * 1.08\n",
    "    parcela = valor_final / 10\n",
    "    print(f'O valor total é de R${valor_final}\\nMétodo de pagamento: Pagamento em 10x\\nValor da parcela: R${parcela:.2f}')\n",
    "else:\n",
    "    print('Opção inválida.')"
   ]
  }
 ],
 "metadata": {
  "kernelspec": {
   "display_name": "Python 3",
   "language": "python",
   "name": "python3"
  },
  "language_info": {
   "codemirror_mode": {
    "name": "ipython",
    "version": 3
   },
   "file_extension": ".py",
   "mimetype": "text/x-python",
   "name": "python",
   "nbconvert_exporter": "python",
   "pygments_lexer": "ipython3",
   "version": "3.12.1"
  }
 },
 "nbformat": 4,
 "nbformat_minor": 2
}
