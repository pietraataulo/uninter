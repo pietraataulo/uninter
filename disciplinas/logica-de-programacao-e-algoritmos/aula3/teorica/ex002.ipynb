{
 "cells": [
  {
   "cell_type": "markdown",
   "metadata": {},
   "source": [
    "Desenvolva um algoritmo que solicite o seu ano de nascimento e o ano atual. Calcule a sua idade e apresente na tela."
   ]
  },
  {
   "cell_type": "code",
   "execution_count": 4,
   "metadata": {},
   "outputs": [],
   "source": [
    "#passo1 - solicitar informações\n",
    "ano = int(input('Qual seu ano de nascimento?'))\n",
    "anoat = int(input('Em que ano estamos?'))\n"
   ]
  },
  {
   "cell_type": "code",
   "execution_count": 5,
   "metadata": {},
   "outputs": [
    {
     "name": "stdout",
     "output_type": "stream",
     "text": [
      "Você tem 18 anos!\n"
     ]
    }
   ],
   "source": [
    "#passo2 - calcular e apresentar na tela\n",
    "idade = anoat - ano\n",
    "print(f'Você tem {idade} anos!')"
   ]
  },
  {
   "cell_type": "code",
   "execution_count": 6,
   "metadata": {},
   "outputs": [
    {
     "name": "stdout",
     "output_type": "stream",
     "text": [
      "Já pode tirar a carteira de motorista!\n"
     ]
    }
   ],
   "source": [
    "#passo3 - teste de lógica\n",
    "if (idade >= 18):\n",
    "    print('Já pode tirar a carteira de motorista!')"
   ]
  }
 ],
 "metadata": {
  "kernelspec": {
   "display_name": "Python 3",
   "language": "python",
   "name": "python3"
  },
  "language_info": {
   "codemirror_mode": {
    "name": "ipython",
    "version": 3
   },
   "file_extension": ".py",
   "mimetype": "text/x-python",
   "name": "python",
   "nbconvert_exporter": "python",
   "pygments_lexer": "ipython3",
   "version": "3.12.1"
  }
 },
 "nbformat": 4,
 "nbformat_minor": 2
}
