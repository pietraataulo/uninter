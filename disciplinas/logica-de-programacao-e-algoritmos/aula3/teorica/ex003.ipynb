{
 "cells": [
  {
   "cell_type": "markdown",
   "metadata": {},
   "source": [
    "Uma empresa concedeu um bônus de 20% para todos seus funcionários com mais de cinco anos de empresa. Todos os outros que não se enquadram nesta categoria receberam uma bonificação de 10%, somente. Escreva um algoritmo que leia o salário do funcionário e seu tempo de empresa, e apresente a bonificação de cada funcionário na tela."
   ]
  },
  {
   "cell_type": "code",
   "execution_count": 4,
   "metadata": {},
   "outputs": [
    {
     "name": "stdout",
     "output_type": "stream",
     "text": [
      "Seu bônus é de R$400.0!\n",
      "Seu tempo na empresa é de 10 anos!\n"
     ]
    }
   ],
   "source": [
    "#passo1 - coletar informações\n",
    "salario = float(input('Qual seu salário?'))\n",
    "ano_ad = int(input('Qual seu ano de admissão na empresa?'))\n",
    "ano_atual = int(input('Em que ano estamos?'))\n",
    "tempo = ano_atual - ano_ad\n",
    "\n",
    "#passo2 - teste de lógica\n",
    "if tempo > 5:\n",
    "    bonus = salario * 0.2\n",
    "else:\n",
    "    bonus = salario * 0.1\n",
    "\n",
    "#passo3 - apresentar resultados\n",
    "print(f'Seu bônus é de R${bonus}!\\nSeu tempo na empresa é de {tempo} anos!')"
   ]
  }
 ],
 "metadata": {
  "kernelspec": {
   "display_name": "Python 3",
   "language": "python",
   "name": "python3"
  },
  "language_info": {
   "codemirror_mode": {
    "name": "ipython",
    "version": 3
   },
   "file_extension": ".py",
   "mimetype": "text/x-python",
   "name": "python",
   "nbconvert_exporter": "python",
   "pygments_lexer": "ipython3",
   "version": "3.12.1"
  }
 },
 "nbformat": 4,
 "nbformat_minor": 2
}
