{
 "cells": [
  {
   "cell_type": "code",
   "execution_count": 5,
   "metadata": {},
   "outputs": [
    {
     "name": "stdout",
     "output_type": "stream",
     "text": [
      "Bem-vindo(a) à feirinha da Neide!\n",
      "1 - Maçã\n",
      "2 - Laranja\n",
      "3 - Banana\n",
      "Você escolheu 4 laranjas\n",
      "O total a pagar é R$14.4 reais\n"
     ]
    }
   ],
   "source": [
    "#passo1 - apresentar menu e coletar informações\n",
    "print('Bem-vindo(a) à feirinha da Neide!\\n1 - Maçã\\n2 - Laranja\\n3 - Banana')\n",
    "fruta = int(input('Escolha o que deseja comprar:'))\n",
    "\n",
    "#passo2 - calculando o preço\n",
    "uni = int(input('Quantas unidades deseja comprar?'))\n",
    "if fruta == 1:\n",
    "    preco = uni * 2.3\n",
    "    print(f'Você escolheu {uni} maçãs\\nO total a pagar é R${preco} reais')\n",
    "else:\n",
    "    if fruta == 2:\n",
    "        preco = uni * 3.60\n",
    "        print(f'Você escolheu {uni} laranjas\\nO total a pagar é R${preco} reais')\n",
    "    else:\n",
    "        if fruta == 3:\n",
    "            preco = uni * 1.85\n",
    "            print(f'Você escolheu {uni} bananas\\nO total a pagar é R${preco} reais')\n",
    "        else:\n",
    "            print('Produto inexistente')"
   ]
  }
 ],
 "metadata": {
  "kernelspec": {
   "display_name": "Python 3",
   "language": "python",
   "name": "python3"
  },
  "language_info": {
   "codemirror_mode": {
    "name": "ipython",
    "version": 3
   },
   "file_extension": ".py",
   "mimetype": "text/x-python",
   "name": "python",
   "nbconvert_exporter": "python",
   "pygments_lexer": "ipython3",
   "version": "3.12.1"
  }
 },
 "nbformat": 4,
 "nbformat_minor": 2
}
