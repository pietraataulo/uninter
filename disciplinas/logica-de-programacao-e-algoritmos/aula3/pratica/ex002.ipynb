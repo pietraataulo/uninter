{
 "cells": [
  {
   "cell_type": "code",
   "execution_count": 1,
   "metadata": {},
   "outputs": [
    {
     "name": "stdout",
     "output_type": "stream",
     "text": [
      "Você tem direitos aos benefícios.\n"
     ]
    }
   ],
   "source": [
    "# Condicional simples\n",
    "\n",
    "idade = int(input('Digite sua idade:'))\n",
    "if idade > 60:\n",
    "    print('Você tem direitos aos benefícios.')"
   ]
  },
  {
   "cell_type": "code",
   "execution_count": 3,
   "metadata": {},
   "outputs": [
    {
     "name": "stdout",
     "output_type": "stream",
     "text": [
      "Você está morto!\n"
     ]
    }
   ],
   "source": [
    "dano = 13\n",
    "escudo = 0\n",
    "if dano > 10 and escudo == 0:\n",
    "    print('Você está morto!')"
   ]
  },
  {
   "cell_type": "code",
   "execution_count": 5,
   "metadata": {},
   "outputs": [],
   "source": [
    "norte = True\n",
    "sul = False\n",
    "leste = False\n",
    "oeste = False\n",
    "if norte or sul or leste or oeste:\n",
    "    print('Você escapou!')"
   ]
  },
  {
   "cell_type": "code",
   "execution_count": 15,
   "metadata": {},
   "outputs": [
    {
     "name": "stdout",
     "output_type": "stream",
     "text": [
      "Pode ser um ano bissexto.\n"
     ]
    }
   ],
   "source": [
    "# Condicional composta\n",
    "ano = 2036\n",
    "if ano % 4 == 0:\n",
    "    print('Pode ser um ano bissexto.')\n",
    "else:\n",
    "    print('Definitivamente não é um ano bissexto.')\n"
   ]
  },
  {
   "cell_type": "code",
   "execution_count": 16,
   "metadata": {},
   "outputs": [
    {
     "name": "stdout",
     "output_type": "stream",
     "text": [
      "Decida-se!\n"
     ]
    }
   ],
   "source": [
    "cima = True\n",
    "baixo = True\n",
    "if cima and baixo:\n",
    "    print('Decida-se!')\n",
    "else:\n",
    "    print('Você escolheu um caminho.')"
   ]
  }
 ],
 "metadata": {
  "kernelspec": {
   "display_name": "Python 3",
   "language": "python",
   "name": "python3"
  },
  "language_info": {
   "codemirror_mode": {
    "name": "ipython",
    "version": 3
   },
   "file_extension": ".py",
   "mimetype": "text/x-python",
   "name": "python",
   "nbconvert_exporter": "python",
   "pygments_lexer": "ipython3",
   "version": "3.12.1"
  }
 },
 "nbformat": 4,
 "nbformat_minor": 2
}
