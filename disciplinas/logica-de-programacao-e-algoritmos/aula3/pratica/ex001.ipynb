{
 "cells": [
  {
   "cell_type": "code",
   "execution_count": null,
   "metadata": {},
   "outputs": [],
   "source": [
    "# a)\n",
    "\n",
    "if (2 + 2 < 4):\n",
    "\n",
    "# b)\n",
    "\n",
    "if (7 // 3 == 1 + 1):\n",
    "\n",
    "# c)\n",
    "\n",
    "if (3 ** 2 + 4 ** 2 == 25):\n",
    "\n",
    "# d)\n",
    "\n",
    "if (2 + 4 + 6 > 12):"
   ]
  }
 ],
 "metadata": {
  "kernelspec": {
   "display_name": "Python 3",
   "language": "python",
   "name": "python3"
  },
  "language_info": {
   "name": "python",
   "version": "3.12.1"
  }
 },
 "nbformat": 4,
 "nbformat_minor": 2
}
