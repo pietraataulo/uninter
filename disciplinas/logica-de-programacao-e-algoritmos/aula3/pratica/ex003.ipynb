{
 "cells": [
  {
   "cell_type": "code",
   "execution_count": 3,
   "metadata": {},
   "outputs": [
    {
     "name": "stdout",
     "output_type": "stream",
     "text": [
      "CALCULADORA\n",
      "Adição +\n",
      "Subtração -\n",
      "Multiplicação *\n",
      "Divisão /\n",
      "Pressione qualquer outra tecla para sair.\n",
      "0.8888888888888888\n"
     ]
    }
   ],
   "source": [
    "# exibindo menu e lendo os valores \n",
    "print('CALCULADORA')\n",
    "print('Adição +\\nSubtração -\\nMultiplicação *\\nDivisão /\\nPressione qualquer outra tecla para sair.')\n",
    "num1 = float(input('Digite o primeiro valor:'))\n",
    "num2 = float(input('Digite o segundo valor:'))\n",
    "\n",
    "# solicitando a operação desejada\n",
    "\n",
    "op = input('Qual operação você deseja realizar?')\n",
    "\n",
    "\n",
    "# teste lógico\n",
    "if op == '+':\n",
    "    print(num1+num2)\n",
    "elif op == '-':\n",
    "    print(num1-num2)\n",
    "elif op == '*':\n",
    "    print(num1*num2)\n",
    "elif op == '/':\n",
    "    print(num1/num2)\n",
    "else:\n",
    "    print('Fechando calculadora...')\n"
   ]
  },
  {
   "cell_type": "code",
   "execution_count": null,
   "metadata": {},
   "outputs": [],
   "source": [
    "if ():\n",
    "    ffggr\n",
    "    "
   ]
  }
 ],
 "metadata": {
  "kernelspec": {
   "display_name": "Python 3",
   "language": "python",
   "name": "python3"
  },
  "language_info": {
   "codemirror_mode": {
    "name": "ipython",
    "version": 3
   },
   "file_extension": ".py",
   "mimetype": "text/x-python",
   "name": "python",
   "nbconvert_exporter": "python",
   "pygments_lexer": "ipython3",
   "version": "3.12.1"
  }
 },
 "nbformat": 4,
 "nbformat_minor": 2
}
